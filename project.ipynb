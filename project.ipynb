{
 "cells": [
  {
   "cell_type": "markdown",
   "id": "4d9235e4-0c8d-41f1-ba75-643ad7b1eca7",
   "metadata": {},
   "source": [
    "# Predicting Airbnb Listing Prices in Hawaii"
   ]
  },
  {
   "cell_type": "markdown",
   "id": "ab511559-cdc7-4935-b031-04d32e1ca6ec",
   "metadata": {},
   "source": [
    "## Project Topic\n",
    "This project aims to predict the price of Airbnb listings in Hawaii, which is a regression problem. I will consider various factors that make up an Airbnb listing, such as location, number of bedrooms, type of property, and reviews, in order to determine the key factors that play into the pricing of Airbnb's in Hawaii."
   ]
  },
  {
   "cell_type": "markdown",
   "id": "1918c4b9-06b4-4b29-b648-484991030ac3",
   "metadata": {},
   "source": [
    "## Project Goal\n",
    "My family is from Hawaii, and I love to visit the islands as much as I can. I hope to create a tool that can help people determine fair pricing of lodging in Hawaii. I will achieve this goal by discovering the most important factors that determine Airbnb pricing, and ultimately create a model that can predict or suggest pricing for Airbnb hosts and guests. Hosts can use the model to price their listings competitively, while guests can ensure they are getting a fair deal."
   ]
  },
  {
   "cell_type": "markdown",
   "id": "bbb753cc-0138-4387-ae78-a006ad859670",
   "metadata": {},
   "source": [
    "## Data Description and Citation\n",
    "We will be using the Inside Airbnb: Hawaii dataset, available on Inside Airbnb. This dataset is updated regularly and provides comprehensive information about Airbnb listings in various cities around the world. The Hawaii dataset specifically includes details about listings across the Hawaiian islands. The dataset consists of approximately 28,000 Airbnb listings in Hawaii, from June 9th, 2022 to September 12th, 2022. The attributes of the dataset consist of listing's ID, name, host ID, host name, island, neighbourhood, latitude, longitude, room type, price, minimum nights, number of reviews, last review date, reviews per month, calculated host listings count, and availability in the year. The exact size of the table for this dataset is 28580 x 18. Below is the first entry in the dataset to serve as a sample for the dataset attributes."
   ]
  },
  {
   "cell_type": "code",
   "execution_count": 13,
   "id": "eef8aa5e-0d9c-4a8a-8ad6-bef6a3bf872a",
   "metadata": {},
   "outputs": [
    {
     "name": "stdout",
     "output_type": "stream",
     "text": [
      "                                                                        0\n",
      "id                                                                   5269\n",
      "name                            Upcountry Hospitality in the 'Auwai Suite\n",
      "host_id                                                              7620\n",
      "host_name                                                       Lea & Pat\n",
      "neighbourhood_group                                                Hawaii\n",
      "neighbourhood                                                South Kohala\n",
      "latitude                                                          20.0274\n",
      "longitude                                                        -155.702\n",
      "room_type                                                 Entire home/apt\n",
      "price                                                                 149\n",
      "minimum_nights                                                          5\n",
      "number_of_reviews                                                      24\n",
      "last_review                                                    2022-07-13\n",
      "reviews_per_month                                                    0.17\n",
      "calculated_host_listings_count                                          3\n",
      "availability_365                                                      212\n",
      "number_of_reviews_ltm                                                  10\n",
      "license                                                  119-269-5808-01R\n"
     ]
    }
   ],
   "source": [
    "import pandas as pd\n",
    "\n",
    "df = pd.read_csv('listings.csv')\n",
    "\n",
    "#Display the first row transposed for visibility\n",
    "print(df.head(1).transpose())"
   ]
  },
  {
   "cell_type": "markdown",
   "id": "bd780d77-39a8-44e6-9ba4-809be924b9c7",
   "metadata": {},
   "source": [
    "*Get the Data.* Inside Airbnb. (2023). Detailed Listings data for Hawaii, United States. Retrieved July 5, 2023, from http://insideairbnb.com/get-the-data/."
   ]
  },
  {
   "cell_type": "markdown",
   "id": "e200d324-b12e-479e-832c-1a3d111b285e",
   "metadata": {},
   "source": [
    "## Data Cleaning and EDA\n",
    "For part 1 of the project I will conduct some initial cleaning of the data that is immediately obvious. There are a handful of things that need to be done in order to ensure a clean, consistent, and efficient data sample."
   ]
  },
  {
   "cell_type": "markdown",
   "id": "9e24ba87-816a-4fbb-90f6-04dd743db7c6",
   "metadata": {},
   "source": [
    "### Remove Duplicate Entries\n",
    "To be safe, I will start by removing any possible duplicate entries in the dataframe. This is important to ensure fair weighting for each data entry."
   ]
  },
  {
   "cell_type": "code",
   "execution_count": 14,
   "id": "af2d48e8-5f21-4606-b16d-f8c3e50917f0",
   "metadata": {},
   "outputs": [
    {
     "name": "stdout",
     "output_type": "stream",
     "text": [
      "No duplicates found\n"
     ]
    }
   ],
   "source": [
    "# If 'id' column exists, drop duplicate rows based on 'id'\n",
    "if 'id' in df.columns:\n",
    "    before = df.shape[0]\n",
    "\n",
    "    df = df.drop_duplicates(subset='id')\n",
    "\n",
    "    after = df.shape[0]\n",
    "\n",
    "    if before > after:\n",
    "        print(f\"Duplicates removed: {before - after}\")\n",
    "    else:\n",
    "        print(\"No duplicates found\")"
   ]
  },
  {
   "cell_type": "markdown",
   "id": "3de5119a-575c-4355-b6e8-8b1af71277ac",
   "metadata": {},
   "source": [
    "### Attribute Removal\n",
    "I will remove unnecessary attributes from the dataframe. The following are each attribute removed, as well as a quick explanation about why it is unnecessary.\n",
    "##### id\n",
    "example: 5269\n",
    "This is the specific id number for each Airbnb posting. This will be meaningless for any calculations I will be doing, and is likely only useful for Airbnb internal use.\n",
    "##### host_id\n",
    "example: 7620\n",
    "This is the specific id number for each Airbnb host. This will be meaningless for any calculations I will be doing, and is likely only useful for Airbnb internal use.\n",
    "##### license\n",
    "example: 119-269-5808-01R\n",
    "This likely represents the type of license held by each property for legal reasons. It does not contain information useful for determining pricing of Airbnb listings."
   ]
  },
  {
   "cell_type": "code",
   "execution_count": 15,
   "id": "a2b44492-1500-4e81-8a34-fc244be567e7",
   "metadata": {},
   "outputs": [
    {
     "name": "stdout",
     "output_type": "stream",
     "text": [
      "                                                                        0\n",
      "name                            Upcountry Hospitality in the 'Auwai Suite\n",
      "host_name                                                       Lea & Pat\n",
      "neighbourhood_group                                                Hawaii\n",
      "neighbourhood                                                South Kohala\n",
      "latitude                                                          20.0274\n",
      "longitude                                                        -155.702\n",
      "room_type                                                 Entire home/apt\n",
      "price                                                                 149\n",
      "minimum_nights                                                          5\n",
      "number_of_reviews                                                      24\n",
      "last_review                                                    2022-07-13\n",
      "reviews_per_month                                                    0.17\n",
      "calculated_host_listings_count                                          3\n",
      "availability_365                                                      212\n",
      "number_of_reviews_ltm                                                  10\n"
     ]
    }
   ],
   "source": [
    "#remove unnecessary data attributes\n",
    "columns_to_drop = ['id', 'host_id', 'license']\n",
    "\n",
    "for column in columns_to_drop:\n",
    "    if column in df.columns:\n",
    "        df = df.drop(column, axis=1)\n",
    "\n",
    "print(df.head(1).transpose())"
   ]
  },
  {
   "cell_type": "markdown",
   "id": "239af9d6-31c3-416a-ba01-98cf2243e62e",
   "metadata": {},
   "source": [
    "### Further Data Removal Considerations\n",
    "There may be other attributes I choose to remove in the future depending on how useful they prove to be. For example, I may remove the latitude and longitude attributes at some point in the future, but as of now I will keep them incase I find some way to use them for a geological based visualizations and predictions."
   ]
  },
  {
   "cell_type": "code",
   "execution_count": null,
   "id": "59ce6808-ea07-4c2b-b2d1-6fc3ecc3528e",
   "metadata": {},
   "outputs": [],
   "source": []
  }
 ],
 "metadata": {
  "kernelspec": {
   "display_name": "Python 3 (ipykernel)",
   "language": "python",
   "name": "python3"
  },
  "language_info": {
   "codemirror_mode": {
    "name": "ipython",
    "version": 3
   },
   "file_extension": ".py",
   "mimetype": "text/x-python",
   "name": "python",
   "nbconvert_exporter": "python",
   "pygments_lexer": "ipython3",
   "version": "3.10.8"
  }
 },
 "nbformat": 4,
 "nbformat_minor": 5
}
